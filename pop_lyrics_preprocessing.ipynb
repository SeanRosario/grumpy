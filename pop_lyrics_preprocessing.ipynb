{
 "cells": [
  {
   "cell_type": "markdown",
   "metadata": {
    "collapsed": true
   },
   "source": [
    "# Pop Lyrics Preproccessing for RNN input\n",
    "---\n",
    "\n",
    "This notebook reads pop lyrics from [here](https://raw.githubusercontent.com/jamesthomson/Evolution_of_Pop_Lyrics/master/data/scraped_lyrics.tsv)\n",
    "and does the following preprocessing/cleaning:\n",
    "\n",
    "* Removes lyrics that say \"Lyrics not found\"\n",
    "* Convert '\\r\\n' to indicated line and stanza start and end positions\n",
    "* Uses Regular expressions to remove non-lyrical text such and [chorus] or (2x)"
   ]
  },
  {
   "cell_type": "code",
   "execution_count": 3,
   "metadata": {
    "collapsed": true
   },
   "outputs": [],
   "source": [
    "import pandas as pd\n",
    "import re\n",
    "import time\n",
    "import csv\n",
    "from time import sleep\n",
    "import numpy as np"
   ]
  },
  {
   "cell_type": "code",
   "execution_count": 4,
   "metadata": {
    "collapsed": true
   },
   "outputs": [],
   "source": [
    "pop = pd.read_csv('https://raw.githubusercontent.com/jamesthomson/Evolution_of_Pop_Lyrics/master/data/scraped_lyrics.tsv',sep='\\t')"
   ]
  },
  {
   "cell_type": "code",
   "execution_count": 5,
   "metadata": {
    "collapsed": true
   },
   "outputs": [],
   "source": [
    "pop_clean = pop[pop['lyrics']!='Lyrics Not found']"
   ]
  },
  {
   "cell_type": "code",
   "execution_count": 6,
   "metadata": {
    "collapsed": false
   },
   "outputs": [],
   "source": [
    "def get_tagged_lyric(str_input):\n",
    "    tagged_lyric = (str_input).replace('\\r\\n\\r\\n','</l></s><s><l>')\n",
    "    tagged_lyric = (tagged_lyric).replace('\\r\\n','</l><l>')\n",
    "    return '<s><l>'+tagged_lyric+'</l></s>'"
   ]
  },
  {
   "cell_type": "code",
   "execution_count": 7,
   "metadata": {
    "collapsed": false
   },
   "outputs": [],
   "source": [
    "pattern_1 = '\\([0-9]+x\\)'\n",
    "pattern_2 = '\\[.*?\\]'\n",
    "pattern_3 = '\\{.*?\\}'\n",
    "pattern_4 = 'chorus'\n",
    "pattern_5 = 'verse'\n",
    "\n",
    "all_patterns = [pattern_1,pattern_2,pattern_3,pattern_4,pattern_5]\n",
    "\n",
    "final_lyrics = []\n",
    "\n",
    "for lyric in pop_clean.lyrics:\n",
    "\n",
    "    try:\n",
    "        lyric = lyric.lower()\n",
    "        for pattern in all_patterns:\n",
    "            lyric = re.sub(pattern,'',lyric)\n",
    "            \n",
    "        final_lyrics.append(get_tagged_lyric(lyric))\n",
    "    except:\n",
    "        print \"There was a problem\""
   ]
  },
  {
   "cell_type": "code",
   "execution_count": 8,
   "metadata": {
    "collapsed": false
   },
   "outputs": [
    {
     "name": "stderr",
     "output_type": "stream",
     "text": [
      "/anaconda/lib/python2.7/site-packages/ipykernel/__main__.py:1: SettingWithCopyWarning: \n",
      "A value is trying to be set on a copy of a slice from a DataFrame.\n",
      "Try using .loc[row_indexer,col_indexer] = value instead\n",
      "\n",
      "See the caveats in the documentation: http://pandas.pydata.org/pandas-docs/stable/indexing.html#indexing-view-versus-copy\n",
      "  if __name__ == '__main__':\n"
     ]
    }
   ],
   "source": [
    "pop_clean['Final_lyrics']=final_lyrics"
   ]
  },
  {
   "cell_type": "code",
   "execution_count": 9,
   "metadata": {
    "collapsed": true
   },
   "outputs": [],
   "source": [
    "pop_clean.to_csv('data/pop_clean_lyrics_dataset.csv')"
   ]
  },
  {
   "cell_type": "markdown",
   "metadata": {},
   "source": [
    "## Example"
   ]
  },
  {
   "cell_type": "code",
   "execution_count": 12,
   "metadata": {
    "collapsed": false
   },
   "outputs": [
    {
     "data": {
      "text/plain": [
       "\"Chorus:\\r\\nNow you caught my heart for the evening\\r\\nKissed my cheek, moved in you confused things\\r\\nShould I just sit out or come harder\\r\\nHelp me find my way\\r\\n\\r\\nMessin' me up, my whole head\\r\\nTeasing me, just like Tisha did Martin\\r\\nNow look, at what you starting\\r\\nSchool boy crush, and it ain't on the hush\\r\\nThe whole world, see it, but you can't\\r\\nMy people's they complain, sittin' rave and rant\\r\\nYour name is out my mouth like a ancient chant\\r\\nGot me like a dog as I pause and pant\\r\\n\\r\\nSpeaking of which, got a leash and a wish, just to rock you miss\\r\\nMake a militant move, peep my strategy\\r\\nEnd of the day you're not mad at me\\r\\nNot dealing with nobody now, that's what you told me\\r\\nI said hey yo it's cool, we could just be friendly\\r\\nCause yo, picture me messin it up\\r\\nHer mind I corrupt with the ill C-cups\\r\\nShiiit, I'm on my day off\\r\\nBullshittin, hopin' that the day go slow\\r\\nGot me like a friend, what confuses me though\\r\\nIt's kisses when we breeze, tell me what the deal yo\\r\\n\\r\\n{Chorus} (2x)\\r\\n\\r\\nNow why you wanna go and do that love huh\\r\\nMaking things for me towards you harder\\r\\nKilling me, just when I think we there\\r\\nYou doubts the whole vibe and it floats in the air\\r\\nTellin' me, bout next man\\r\\nBut next man ain't the nigga wit the plans\\r\\nWho, got your heart in mind\\r\\nIt's about time that you just unwind\\r\\n\\r\\nAnd let it just happen, make it front-free\\r\\nJust sweat me like money paney\\r\\nDiggin' you, gettin inside of your stee'\\r\\nIt's the quest cat, keepin you company\\r\\nForever or however you want it\\r\\n\\r\\nWord word\\r\\nNow wait a minute ma, before you dead into the curb\\r\\nTry to make impressions which is good, not the herb\\r\\nBut it, it it ain't me, and I, I ain't blurred\\r\\nI'ma still just chill wit you\\r\\nMaybe this'll change if you change your view\\r\\nIf not, then I guess it is cool\\r\\nJust, keep to yourself and abide by the rules\\r\\n\\r\\nShake it out now (repeats)\\r\\n\\r\\n{Chorus} (repeat til end)\""
      ]
     },
     "execution_count": 12,
     "metadata": {},
     "output_type": "execute_result"
    }
   ],
   "source": [
    "# Before cleaning\n",
    "pop_clean.lyrics[1000]"
   ]
  },
  {
   "cell_type": "code",
   "execution_count": 13,
   "metadata": {
    "collapsed": false
   },
   "outputs": [
    {
     "name": "stdout",
     "output_type": "stream",
     "text": [
      "<s><l>:</l><l>now you caught my heart for the evening</l><l>kissed my cheek, moved in you confused things</l><l>should i just sit out or come harder</l><l>help me find my way</l></s><s><l>messin' me up, my whole head</l><l>teasing me, just like tisha did martin</l><l>now look, at what you starting</l><l>school boy crush, and it ain't on the hush</l><l>the whole world, see it, but you can't</l><l>my people's they complain, sittin' rave and rant</l><l>your name is out my mouth like a ancient chant</l><l>got me like a dog as i pause and pant</l></s><s><l>speaking of which, got a leash and a wish, just to rock you miss</l><l>make a militant move, peep my strategy</l><l>end of the day you're not mad at me</l><l>not dealing with nobody now, that's what you told me</l><l>i said hey yo it's cool, we could just be friendly</l><l>cause yo, picture me messin it up</l><l>her mind i corrupt with the ill c-cups</l><l>shiiit, i'm on my day off</l><l>bullshittin, hopin' that the day go slow</l><l>got me like a friend, what confuses me though</l><l>it's kisses when we breeze, tell me what the deal yo</l></s><s><l> </l></s><s><l>now why you wanna go and do that love huh</l><l>making things for me towards you harder</l><l>killing me, just when i think we there</l><l>you doubts the whole vibe and it floats in the air</l><l>tellin' me, bout next man</l><l>but next man ain't the nigga wit the plans</l><l>who, got your heart in mind</l><l>it's about time that you just unwind</l></s><s><l>and let it just happen, make it front-free</l><l>just sweat me like money paney</l><l>diggin' you, gettin inside of your stee'</l><l>it's the quest cat, keepin you company</l><l>forever or however you want it</l></s><s><l>word word</l><l>now wait a minute ma, before you dead into the curb</l><l>try to make impressions which is good, not the herb</l><l>but it, it it ain't me, and i, i ain't blurred</l><l>i'ma still just chill wit you</l><l>maybe this'll change if you change your view</l><l>if not, then i guess it is cool</l><l>just, keep to yourself and abide by the rules</l></s><s><l>shake it out now (repeats)</l></s><s><l> (repeat til end)</l></s>\n"
     ]
    }
   ],
   "source": [
    "# After cleaning\n",
    "print pop_clean.Final_lyrics[1000]"
   ]
  }
 ],
 "metadata": {
  "kernelspec": {
   "display_name": "Python 2",
   "language": "python",
   "name": "python2"
  },
  "language_info": {
   "codemirror_mode": {
    "name": "ipython",
    "version": 2
   },
   "file_extension": ".py",
   "mimetype": "text/x-python",
   "name": "python",
   "nbconvert_exporter": "python",
   "pygments_lexer": "ipython2",
   "version": "2.7.12"
  }
 },
 "nbformat": 4,
 "nbformat_minor": 1
}

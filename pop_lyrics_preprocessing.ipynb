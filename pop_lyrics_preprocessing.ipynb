{
 "cells": [
  {
   "cell_type": "markdown",
   "metadata": {
    "collapsed": true
   },
   "source": [
    "# Pop Lyrics Preproccessing for RNN input\n",
    "---\n",
    "\n",
    "This notebook reads pop lyrics from [here](https://raw.githubusercontent.com/jamesthomson/Evolution_of_Pop_Lyrics/master/data/scraped_lyrics.tsv)\n",
    "and does the following preprocessing/cleaning:\n",
    "\n",
    "* Removes lyrics that say \"Lyrics not found\"\n",
    "* Convert '\\r\\n' to indicated line and stanza start and end positions\n",
    "* Uses Regular expressions to remove non-lyrical text such and [chorus] or (2x)"
   ]
  },
  {
   "cell_type": "markdown",
   "metadata": {},
   "source": [
    "### Reading in the data"
   ]
  },
  {
   "cell_type": "code",
   "execution_count": 25,
   "metadata": {
    "collapsed": true
   },
   "outputs": [],
   "source": [
    "import pandas as pd\n",
    "import re\n",
    "import time\n",
    "import csv\n",
    "from time import sleep\n",
    "import numpy as np"
   ]
  },
  {
   "cell_type": "code",
   "execution_count": 26,
   "metadata": {
    "collapsed": true
   },
   "outputs": [],
   "source": [
    "pop = pd.read_csv('https://raw.githubusercontent.com/jamesthomson/Evolution_of_Pop_Lyrics/master/data/scraped_lyrics.tsv',sep='\\t')"
   ]
  },
  {
   "cell_type": "markdown",
   "metadata": {},
   "source": [
    "### Cleaning and preprocessing"
   ]
  },
  {
   "cell_type": "code",
   "execution_count": 27,
   "metadata": {
    "collapsed": true
   },
   "outputs": [],
   "source": [
    "def clean_str(string):\n",
    "\t\"\"\"\n",
    "\tTokenization/string cleaning for all datasets except for SST.\n",
    "\tOriginal taken from https://github.com/yoonkim/CNN_sentence/blob/master/process_data.py\n",
    "\t\"\"\"\n",
    "\tstring = re.sub(r\"[^A-Za-z0-9(),!?\\'\\`]\", \" \", string)\n",
    "\tstring = re.sub(r\"\\'s\", \" \\'s\", string)\n",
    "\tstring = re.sub(r\"\\'ve\", \" \\'ve\", string)\n",
    "\tstring = re.sub(r\"n\\'t\", \" not\", string)\n",
    "\tstring = re.sub(r\"\\'re\", \" \\'re\", string)\n",
    "\tstring = re.sub(r\"\\'d\", \" \\'d\", string)\n",
    "\tstring = re.sub(r\"\\'ll\", \" \\'ll\", string)\n",
    "\tstring = re.sub(r\",\", \" , \", string)\n",
    "\tstring = re.sub(r\"!\", \" ! \", string)\n",
    "\tstring = re.sub(r\"\\(\", \" \\( \", string)\n",
    "\tstring = re.sub(r\"\\)\", \" \\) \", string)\n",
    "\tstring = re.sub(r\"\\?\", \" \\? \", string)\n",
    "\tstring = re.sub(r\"\\s{2,}\", \" \", string)\n",
    "\tstring = re.sub(r\"<br />\", \" \", string) #Replace HTML break with white space\n",
    "\tstring = re.sub(r\"br\", \" \", string)\n",
    "\tstring = re.sub(r\"\\\\\", \" \", string)\n",
    "\treturn string.strip().lower()"
   ]
  },
  {
   "cell_type": "code",
   "execution_count": 28,
   "metadata": {
    "collapsed": true
   },
   "outputs": [],
   "source": [
    "pop_clean = pop[pop['lyrics']!='Lyrics Not found']"
   ]
  },
  {
   "cell_type": "code",
   "execution_count": 29,
   "metadata": {
    "collapsed": false
   },
   "outputs": [],
   "source": [
    "x_text = [clean_str(sent) for sent in pop_clean.lyrics]"
   ]
  },
  {
   "cell_type": "markdown",
   "metadata": {},
   "source": [
    "### Vocabulary building"
   ]
  },
  {
   "cell_type": "code",
   "execution_count": 30,
   "metadata": {
    "collapsed": true
   },
   "outputs": [],
   "source": [
    "\n",
    "\n",
    "def replace_with_oov(input_str,vocab):\n",
    "    result=''\n",
    "    for word in input_str.split():\n",
    "        if (word in vocab):\n",
    "            result= result + word + ' '\n",
    "        else:\n",
    "            result= result + '<oov> '\n",
    "    return result\n",
    "\n",
    "\n",
    "word_count = {} # Keys are words, Values are frequency\n",
    "\n",
    "for review in x_text:\n",
    "\n",
    "    words = review.split()\n",
    "\n",
    "    for word in words:\n",
    "        try:\n",
    "            word_count[word]+=1\n",
    "        except:\n",
    "            word_count[word]=0\n",
    "\n",
    "\n",
    "res = list(sorted(word_count, key=word_count.__getitem__, reverse=True))\n",
    "\n",
    "global vocab\n",
    "vocab = res[:10000]\n",
    "\n",
    "# Replacing words that are not in the vocab with '<oov>'\n",
    "cleaned_x_text = [replace_with_oov(item,vocab) for item in x_text]"
   ]
  },
  {
   "cell_type": "code",
   "execution_count": 32,
   "metadata": {
    "collapsed": true
   },
   "outputs": [],
   "source": [
    "def get_tagged_lyric(str_input):\n",
    "    tagged_lyric = (str_input).replace('\\r\\n\\r\\n','</l></s><s><l>')\n",
    "    tagged_lyric = (tagged_lyric).replace('\\r\\n','</l><l>')\n",
    "    return '<s><l>'+tagged_lyric+'</l></s>'"
   ]
  },
  {
   "cell_type": "code",
   "execution_count": 33,
   "metadata": {
    "collapsed": true
   },
   "outputs": [],
   "source": [
    "pattern_1 = '\\([0-9]+x\\)'\n",
    "pattern_2 = '\\[.*?\\]'\n",
    "pattern_3 = '\\{.*?\\}'\n",
    "pattern_4 = 'chorus'\n",
    "pattern_5 = 'verse'\n",
    "\n",
    "all_patterns = [pattern_1,pattern_2,pattern_3,pattern_4,pattern_5]\n",
    "\n",
    "final_lyrics = []\n",
    "\n",
    "for lyric in cleaned_x_text:\n",
    "\n",
    "    try:\n",
    "        lyric = lyric.lower()\n",
    "        for pattern in all_patterns:\n",
    "            lyric = re.sub(pattern,'',lyric)\n",
    "            \n",
    "        final_lyrics.append(get_tagged_lyric(lyric))\n",
    "    except:\n",
    "        print \"There was a problem\""
   ]
  },
  {
   "cell_type": "code",
   "execution_count": 34,
   "metadata": {
    "collapsed": false
   },
   "outputs": [
    {
     "name": "stderr",
     "output_type": "stream",
     "text": [
      "/anaconda/lib/python2.7/site-packages/ipykernel/__main__.py:1: SettingWithCopyWarning: \n",
      "A value is trying to be set on a copy of a slice from a DataFrame.\n",
      "Try using .loc[row_indexer,col_indexer] = value instead\n",
      "\n",
      "See the caveats in the documentation: http://pandas.pydata.org/pandas-docs/stable/indexing.html#indexing-view-versus-copy\n",
      "  if __name__ == '__main__':\n"
     ]
    }
   ],
   "source": [
    "pop_clean['Final_lyrics']=final_lyrics"
   ]
  },
  {
   "cell_type": "code",
   "execution_count": 37,
   "metadata": {
    "collapsed": false
   },
   "outputs": [
    {
     "name": "stdout",
     "output_type": "stream",
     "text": [
      "Chorus:\r\n",
      "Now you caught my heart for the evening\r\n",
      "Kissed my cheek, moved in you confused things\r\n",
      "Should I just sit out or come harder\r\n",
      "Help me find my way\r\n",
      "\r\n",
      "Messin' me up, my whole head\r\n",
      "Teasing me, just like Tisha did Martin\r\n",
      "Now look, at what you starting\r\n",
      "School boy crush, and it ain't on the hush\r\n",
      "The whole world, see it, but you can't\r\n",
      "My people's they complain, sittin' rave and rant\r\n",
      "Your name is out my mouth like a ancient chant\r\n",
      "Got me like a dog as I pause and pant\r\n",
      "\r\n",
      "Speaking of which, got a leash and a wish, just to rock you miss\r\n",
      "Make a militant move, peep my strategy\r\n",
      "End of the day you're not mad at me\r\n",
      "Not dealing with nobody now, that's what you told me\r\n",
      "I said hey yo it's cool, we could just be friendly\r\n",
      "Cause yo, picture me messin it up\r\n",
      "Her mind I corrupt with the ill C-cups\r\n",
      "Shiiit, I'm on my day off\r\n",
      "Bullshittin, hopin' that the day go slow\r\n",
      "Got me like a friend, what confuses me though\r\n",
      "It's kisses when we breeze, tell me what the deal yo\r\n",
      "\r\n",
      "{Chorus} (2x)\r\n",
      "\r\n",
      "Now why you wanna go and do that love huh\r\n",
      "Making things for me towards you harder\r\n",
      "Killing me, just when I think we there\r\n",
      "You doubts the whole vibe and it floats in the air\r\n",
      "Tellin' me, bout next man\r\n",
      "But next man ain't the nigga wit the plans\r\n",
      "Who, got your heart in mind\r\n",
      "It's about time that you just unwind\r\n",
      "\r\n",
      "And let it just happen, make it front-free\r\n",
      "Just sweat me like money paney\r\n",
      "Diggin' you, gettin inside of your stee'\r\n",
      "It's the quest cat, keepin you company\r\n",
      "Forever or however you want it\r\n",
      "\r\n",
      "Word word\r\n",
      "Now wait a minute ma, before you dead into the curb\r\n",
      "Try to make impressions which is good, not the herb\r\n",
      "But it, it it ain't me, and I, I ain't blurred\r\n",
      "I'ma still just chill wit you\r\n",
      "Maybe this'll change if you change your view\r\n",
      "If not, then I guess it is cool\r\n",
      "Just, keep to yourself and abide by the rules\r\n",
      "\r\n",
      "Shake it out now (repeats)\r\n",
      "\r\n",
      "{Chorus} (repeat til end)\n"
     ]
    }
   ],
   "source": [
    "# Before cleaning\n",
    "print pop_clean.lyrics[1000]"
   ]
  },
  {
   "cell_type": "code",
   "execution_count": 36,
   "metadata": {
    "collapsed": false
   },
   "outputs": [
    {
     "name": "stdout",
     "output_type": "stream",
     "text": [
      "<s><l> now you caught my heart for the evening kissed my cheek , moved in you confused things should i just sit out or come harder help me find my way messin' me up , my whole head teasing me , just like <oov> did martin now look , at what you starting school boy crush , and it ai not on the hush the whole world , see it , but you ca not my people 's they complain , sittin' <oov> and <oov> your name is out my mouth like a ancient chant got me like a dog as i pause and <oov> speaking of which , got a <oov> and a wish , just to rock you miss make a <oov> move , peep my <oov> end of the day you 're not mad at me not dealing with nobody now , that 's what you told me i said hey yo it 's cool , we could just be friendly cause yo , picture me messin it up her mind i <oov> with the ill c cups <oov> , i'm on my day off <oov> , hopin' that the day go slow got me like a friend , what <oov> me though it 's kisses when we eeze , tell me what the deal yo  ( 2x ) now why you wanna go and do that love huh making things for me towards you harder killing me , just when i think we there you doubts the whole vibe and it floats in the air tellin' me , bout next man but next man ai not the nigga wit the plans who , got your heart in mind it 's about time that you just unwind and let it just happen , make it front free just sweat me like money <oov> diggin' you , gettin inside of your <oov> it 's the quest cat , keepin you company forever or however you want it word word now wait a minute ma , before you dead into the curb try to make impressions which is good , not the herb but it , it it ai not me , and i , i ai not <oov> i'ma still just chill wit you maybe this 'll change if you change your view if not , then i guess it is cool just , keep to yourself and abide by the rules shake it out now ( repeats )  ( repeat til end ) </l></s>\n"
     ]
    }
   ],
   "source": [
    "# After cleaning\n",
    "print pop_clean.Final_lyrics[1000]"
   ]
  },
  {
   "cell_type": "code",
   "execution_count": 38,
   "metadata": {
    "collapsed": true
   },
   "outputs": [],
   "source": [
    "pop_clean.to_csv('data/pop_clean_lyrics_dataset.csv')"
   ]
  },
  {
   "cell_type": "code",
   "execution_count": null,
   "metadata": {
    "collapsed": true
   },
   "outputs": [],
   "source": []
  }
 ],
 "metadata": {
  "kernelspec": {
   "display_name": "Python 2",
   "language": "python",
   "name": "python2"
  },
  "language_info": {
   "codemirror_mode": {
    "name": "ipython",
    "version": 2
   },
   "file_extension": ".py",
   "mimetype": "text/x-python",
   "name": "python",
   "nbconvert_exporter": "python",
   "pygments_lexer": "ipython2",
   "version": "2.7.12"
  }
 },
 "nbformat": 4,
 "nbformat_minor": 1
}
